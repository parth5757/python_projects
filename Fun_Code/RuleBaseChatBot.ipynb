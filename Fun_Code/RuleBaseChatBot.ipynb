{
  "nbformat": 4,
  "nbformat_minor": 0,
  "metadata": {
    "colab": {
      "provenance": [],
      "authorship_tag": "ABX9TyOyTvuTiSgIFqLAXHBS+dUy",
      "include_colab_link": true
    },
    "kernelspec": {
      "name": "python3",
      "display_name": "Python 3"
    },
    "language_info": {
      "name": "python"
    }
  },
  "cells": [
    {
      "cell_type": "markdown",
      "metadata": {
        "id": "view-in-github",
        "colab_type": "text"
      },
      "source": [
        "<a href=\"https://colab.research.google.com/github/parth5757/python_project/blob/main/RuleBaseChatBot.ipynb\" target=\"_parent\"><img src=\"https://colab.research.google.com/assets/colab-badge.svg\" alt=\"Open In Colab\"/></a>"
      ]
    },
    {
      "cell_type": "code",
      "execution_count": 1,
      "metadata": {
        "id": "4p_9JzNTimO5"
      },
      "outputs": [],
      "source": [
        "import re\n",
        "import random"
      ]
    },
    {
      "cell_type": "code",
      "source": [
        "class RuleBot:\n",
        "  # Negative responses\n",
        "  negative_response = (\"no\", \"nope\", \"nah\", \"not a chance\", \"sorry\")\n",
        "  # exit conversion\n",
        "  exit_commands = (\"quit\", \"puse\", \"exit\", \"goodbye\", \"bye\", \"later\")\n",
        "  # Random starter questions\n",
        "  random_question = (\n",
        "      \"why are you here?\",\n",
        "      \"are there many humans like you?\",\n",
        "      \"What do you consume for substance\",\n",
        "      \"Does Earth have a leader?\",\n",
        "      \"what planet have you visited?\",\n",
        "      \"what technology do you have on the planet?\"\n",
        "  )\n",
        "  def __init__(self):\n",
        "    self.alienbabble = {'describe_planet_intent': r'.*\\s*your planet.*',\n",
        "                        'answer_why_intent': r'why\\sare.*',\n",
        "                        'about_intellipat': r'.*\\s*intellipat'\n",
        "                        }\n",
        "  def greet(self):\n",
        "    self.name = input(\"what is your name?\\n\")\n",
        "    will_help = input(\n",
        "        f\"Hi {self.name}, I am Rule-Bot. will you help me learn about your planet? \\n\")\n",
        "      if will_help in self.negative_response\n",
        "        print(\"ok, have a nice Earth day!\")\n",
        "        return\n",
        "      self.chat()\n",
        "    )\n",
        "\n",
        "  #  def make_exit(self, reply):"
      ],
      "metadata": {
        "id": "05oMa93mitL1"
      },
      "execution_count": null,
      "outputs": []
    }
  ]
}